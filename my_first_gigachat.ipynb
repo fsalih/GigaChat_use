{
 "cells": [
  {
   "cell_type": "code",
   "execution_count": 8,
   "id": "0daf6e8b",
   "metadata": {},
   "outputs": [],
   "source": [
    "# pip install gigachain"
   ]
  },
  {
   "cell_type": "code",
   "execution_count": 9,
   "id": "f25e25e2",
   "metadata": {},
   "outputs": [],
   "source": [
    "# pip install gigachain-cli"
   ]
  },
  {
   "cell_type": "code",
   "execution_count": null,
   "id": "ae33d99b",
   "metadata": {},
   "outputs": [],
   "source": []
  },
  {
   "cell_type": "code",
   "execution_count": 14,
   "id": "5957cc7c",
   "metadata": {
    "scrolled": false
   },
   "outputs": [
    {
     "name": "stdout",
     "output_type": "stream",
     "text": [
      "Input GigaChat token: \n",
      "········\n",
      "Нажмите ввод для прекращения\n",
      "User: \n"
     ]
    }
   ],
   "source": [
    "\"\"\"Пример работы с чатом через gigachain\"\"\"\n",
    "from langchain.schema import HumanMessage, SystemMessage\n",
    "from langchain.chat_models.gigachat import GigaChat\n",
    "import getpass\n",
    "\n",
    "# Авторизация в сервисе GigaChat\n",
    "giga_token = getpass.getpass('Input GigaChat token: \\n')\n",
    "chat = GigaChat(credentials=giga_token, verify_ssl_certs=False)\n",
    "\n",
    "messages = [\n",
    "    SystemMessage(\n",
    "        content=\"Ты консультант по китайским автомобилям, ты помогаешь выбирать лучший для клиента автомобиль.\"\n",
    "    )\n",
    "]\n",
    "\n",
    "while(True):\n",
    "    print('Нажмите ввод для прекращения') \n",
    "    user_input = input(\"User: \")\n",
    "    if user_input=='':\n",
    "        break\n",
    "    messages.append(HumanMessage(content=user_input))\n",
    "    res = chat(messages)\n",
    "    messages.append(res)\n",
    "    print(\"Bot: \", res.content)"
   ]
  },
  {
   "cell_type": "code",
   "execution_count": null,
   "id": "7587e7ac",
   "metadata": {},
   "outputs": [],
   "source": []
  },
  {
   "cell_type": "code",
   "execution_count": null,
   "id": "0a4140a2",
   "metadata": {},
   "outputs": [],
   "source": []
  }
 ],
 "metadata": {
  "kernelspec": {
   "display_name": "Python 3 (ipykernel)",
   "language": "python",
   "name": "python3"
  },
  "language_info": {
   "codemirror_mode": {
    "name": "ipython",
    "version": 3
   },
   "file_extension": ".py",
   "mimetype": "text/x-python",
   "name": "python",
   "nbconvert_exporter": "python",
   "pygments_lexer": "ipython3",
   "version": "3.10.9"
  }
 },
 "nbformat": 4,
 "nbformat_minor": 5
}
