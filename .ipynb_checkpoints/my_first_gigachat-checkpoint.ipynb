{
 "cells": [
  {
   "cell_type": "markdown",
   "id": "8b8dce53",
   "metadata": {},
   "source": [
    "# Работа с GigaChat"
   ]
  },
  {
   "cell_type": "code",
   "execution_count": 8,
   "id": "972076de",
   "metadata": {},
   "outputs": [],
   "source": [
    "# pip install gigachain"
   ]
  },
  {
   "cell_type": "code",
   "execution_count": 9,
   "id": "110681c4",
   "metadata": {},
   "outputs": [],
   "source": [
    "# pip install gigachain-cli"
   ]
  },
  {
   "cell_type": "code",
   "execution_count": null,
   "id": "0df44747",
   "metadata": {},
   "outputs": [],
   "source": []
  },
  {
   "cell_type": "code",
   "execution_count": 14,
   "id": "156d094c",
   "metadata": {
    "scrolled": false
   },
   "outputs": [
    {
     "name": "stdout",
     "output_type": "stream",
     "text": [
      "Input GigaChat token: \n",
      "········\n",
      "Нажмите ввод для прекращения\n",
      "User: \n"
     ]
    }
   ],
   "source": [
    "\"\"\"Пример работы с чатом через gigachain\"\"\"\n",
    "from langchain.schema import HumanMessage, SystemMessage\n",
    "from langchain.chat_models.gigachat import GigaChat\n",
    "import getpass\n",
    "\n",
    "# Авторизация в сервисе GigaChat\n",
    "giga_token = getpass.getpass('Input GigaChat token: \\n')\n",
    "chat = GigaChat(credentials=giga_token, verify_ssl_certs=False)\n",
    "\n",
    "messages = [\n",
    "    SystemMessage(\n",
    "        content=\"Ты консультант по китайским автомобилям, ты помогаешь выбирать лучший для клиента автомобиль.\"\n",
    "    )\n",
    "]\n",
    "\n",
    "while(True):\n",
    "    print('Нажмите ввод для прекращения') \n",
    "    user_input = input(\"User: \")\n",
    "    if user_input=='':\n",
    "        break\n",
    "    messages.append(HumanMessage(content=user_input))\n",
    "    res = chat(messages)\n",
    "    messages.append(res)\n",
    "    print(\"Bot: \", res.content)"
   ]
  },
  {
   "cell_type": "code",
   "execution_count": null,
   "id": "4bf244c3",
   "metadata": {},
   "outputs": [],
   "source": []
  },
  {
   "cell_type": "markdown",
   "id": "486a7073",
   "metadata": {},
   "source": [
    "# Телеграмм бот"
   ]
  },
  {
   "cell_type": "code",
   "execution_count": 4,
   "id": "723ef58a",
   "metadata": {},
   "outputs": [
    {
     "name": "stdout",
     "output_type": "stream",
     "text": [
      "Defaulting to user installation because normal site-packages is not writeable\n",
      "Requirement already satisfied: aiogram in c:\\users\\lenovo\\appdata\\roaming\\python\\python310\\site-packages (3.2.0)\n",
      "Requirement already satisfied: certifi>=2023.7.22 in c:\\users\\lenovo\\appdata\\roaming\\python\\python310\\site-packages (from aiogram) (2023.11.17)\n",
      "Requirement already satisfied: aiohttp~=3.9.0 in c:\\users\\lenovo\\appdata\\roaming\\python\\python310\\site-packages (from aiogram) (3.9.1)\n",
      "Requirement already satisfied: typing-extensions<=5.0,>=4.7.0 in c:\\users\\lenovo\\appdata\\roaming\\python\\python310\\site-packages (from aiogram) (4.8.0)\n",
      "Requirement already satisfied: pydantic<2.6,>=2.4.1 in c:\\users\\lenovo\\appdata\\roaming\\python\\python310\\site-packages (from aiogram) (2.5.2)\n",
      "Requirement already satisfied: magic-filter<1.1,>=1.0.12 in c:\\users\\lenovo\\appdata\\roaming\\python\\python310\\site-packages (from aiogram) (1.0.12)\n",
      "Requirement already satisfied: aiofiles~=23.2.1 in c:\\users\\lenovo\\appdata\\roaming\\python\\python310\\site-packages (from aiogram) (23.2.1)\n",
      "Requirement already satisfied: async-timeout<5.0,>=4.0 in c:\\users\\lenovo\\appdata\\roaming\\python\\python310\\site-packages (from aiohttp~=3.9.0->aiogram) (4.0.2)\n",
      "Requirement already satisfied: multidict<7.0,>=4.5 in c:\\users\\lenovo\\appdata\\roaming\\python\\python310\\site-packages (from aiohttp~=3.9.0->aiogram) (6.0.4)\n",
      "Requirement already satisfied: yarl<2.0,>=1.0 in c:\\users\\lenovo\\appdata\\roaming\\python\\python310\\site-packages (from aiohttp~=3.9.0->aiogram) (1.9.2)\n",
      "Requirement already satisfied: aiosignal>=1.1.2 in c:\\users\\lenovo\\appdata\\roaming\\python\\python310\\site-packages (from aiohttp~=3.9.0->aiogram) (1.3.1)\n",
      "Requirement already satisfied: attrs>=17.3.0 in d:\\anaconda3\\lib\\site-packages (from aiohttp~=3.9.0->aiogram) (22.1.0)\n",
      "Requirement already satisfied: frozenlist>=1.1.1 in c:\\users\\lenovo\\appdata\\roaming\\python\\python310\\site-packages (from aiohttp~=3.9.0->aiogram) (1.3.3)\n",
      "Requirement already satisfied: pydantic-core==2.14.5 in c:\\users\\lenovo\\appdata\\roaming\\python\\python310\\site-packages (from pydantic<2.6,>=2.4.1->aiogram) (2.14.5)\n",
      "Requirement already satisfied: annotated-types>=0.4.0 in c:\\users\\lenovo\\appdata\\roaming\\python\\python310\\site-packages (from pydantic<2.6,>=2.4.1->aiogram) (0.6.0)\n",
      "Requirement already satisfied: idna>=2.0 in d:\\anaconda3\\lib\\site-packages (from yarl<2.0,>=1.0->aiohttp~=3.9.0->aiogram) (3.4)\n",
      "Note: you may need to restart the kernel to use updated packages.\n"
     ]
    }
   ],
   "source": [
    "pip install aiogram"
   ]
  },
  {
   "cell_type": "code",
   "execution_count": 21,
   "id": "66fdcee8",
   "metadata": {},
   "outputs": [
    {
     "data": {
      "text/plain": [
       "True"
      ]
     },
     "execution_count": 21,
     "metadata": {},
     "output_type": "execute_result"
    }
   ],
   "source": [
    "# проверка доступа к файлу\n",
    "# os.access(\"C:\\\\Users\\\\Lenovo\\\\AppData\\\\Roaming\\\\Python\\\\Python310\\\\site-packages\\\\~iohttp\\\\_helpers.cp310-win_amd64.pyd\", os.R_OK)"
   ]
  },
  {
   "cell_type": "code",
   "execution_count": 20,
   "id": "924b9a60",
   "metadata": {},
   "outputs": [],
   "source": [
    "# задание прав\n",
    "# os.chmod(\"C:\\\\Users\\\\Lenovo\\\\AppData\\\\Roaming\\\\Python\\\\Python310\\\\site-packages\\\\~iohttp\\\\_helpers.cp310-win_amd64.pyd\", 0o777)"
   ]
  },
  {
   "cell_type": "code",
   "execution_count": null,
   "id": "b7faf9e5",
   "metadata": {},
   "outputs": [],
   "source": []
  },
  {
   "cell_type": "code",
   "execution_count": 8,
   "id": "5cb4ec85",
   "metadata": {},
   "outputs": [
    {
     "ename": "AttributeError",
     "evalue": "module 'aiogram.dispatcher' has no attribute 'message_handler_func'",
     "output_type": "error",
     "traceback": [
      "\u001b[1;31m---------------------------------------------------------------------------\u001b[0m",
      "\u001b[1;31mAttributeError\u001b[0m                            Traceback (most recent call last)",
      "Cell \u001b[1;32mIn[8], line 14\u001b[0m\n\u001b[0;32m      9\u001b[0m YDB_DATABASE \u001b[38;5;241m=\u001b[39m os\u001b[38;5;241m.\u001b[39mgetenv(\u001b[38;5;124m\"\u001b[39m\u001b[38;5;124mYDB_DATABASE\u001b[39m\u001b[38;5;124m\"\u001b[39m)\n\u001b[0;32m     10\u001b[0m BOT_TOKEN \u001b[38;5;241m=\u001b[39m os\u001b[38;5;241m.\u001b[39mgetenv(\u001b[38;5;124m\"\u001b[39m\u001b[38;5;124mBOT_TOKEN\u001b[39m\u001b[38;5;124m\"\u001b[39m)\n\u001b[1;32m---> 14\u001b[0m \u001b[38;5;129m@aiogram\u001b[39m\u001b[38;5;241;43m.\u001b[39;49m\u001b[43mdispatcher\u001b[49m\u001b[38;5;241;43m.\u001b[39;49m\u001b[43mmessage_handler_func\u001b[49m(commands\u001b[38;5;241m=\u001b[39m\u001b[38;5;124m'\u001b[39m\u001b[38;5;124mstart\u001b[39m\u001b[38;5;124m'\u001b[39m)\n\u001b[0;32m     15\u001b[0m \u001b[38;5;28;01masync\u001b[39;00m \u001b[38;5;28;01mdef\u001b[39;00m \u001b[38;5;21mstart_message\u001b[39m(message: types\u001b[38;5;241m.\u001b[39mMessage):\n\u001b[0;32m     16\u001b[0m     \u001b[38;5;28;01mawait\u001b[39;00m bot\u001b[38;5;241m.\u001b[39msend_message(message\u001b[38;5;241m.\u001b[39mchat\u001b[38;5;241m.\u001b[39mid, \u001b[38;5;124m'\u001b[39m\u001b[38;5;124mСколько лет, сколько зим!\u001b[39m\u001b[38;5;124m'\u001b[39m)\n\u001b[0;32m     18\u001b[0m \u001b[38;5;129m@aiogram\u001b[39m\u001b[38;5;241m.\u001b[39mdispatcher\u001b[38;5;241m.\u001b[39mmessage_handler_func(func\u001b[38;5;241m=\u001b[39m\u001b[38;5;28;01mlambda\u001b[39;00m message: \u001b[38;5;28;01mTrue\u001b[39;00m)\n\u001b[0;32m     19\u001b[0m \u001b[38;5;28;01masync\u001b[39;00m \u001b[38;5;28;01mdef\u001b[39;00m \u001b[38;5;21mecho_message\u001b[39m(message: types\u001b[38;5;241m.\u001b[39mMessage):\n",
      "\u001b[1;31mAttributeError\u001b[0m: module 'aiogram.dispatcher' has no attribute 'message_handler_func'"
     ]
    }
   ],
   "source": [
    "import os\n",
    "import aiogram\n",
    "from aiogram import types\n",
    "# from logs import logger\n",
    "# from aiogram import executor\n",
    "import asyncio\n",
    "\n",
    "YDB_ENDPOINT = os.getenv(\"YDB_ENDPOINT\")\n",
    "YDB_DATABASE = os.getenv(\"YDB_DATABASE\")\n",
    "BOT_TOKEN = os.getenv(\"BOT_TOKEN\")\n",
    "\n",
    "\n",
    "\n",
    "@aiogram.dispatcher.message_handler_func(commands='start')\n",
    "async def start_message(message: types.Message):\n",
    "    await bot.send_message(message.chat.id, 'Сколько лет, сколько зим!')\n",
    "\n",
    "@aiogram.dispatcher.message_handler_func(func=lambda message: True)\n",
    "async def echo_message(message: types.Message):\n",
    "    if message.text == 'Привет!':\n",
    "        await bot.send_message(message.chat.id, 'Приветствую тебя!')\n",
    "    else:\n",
    "        await bot.send_message(message.chat.id, 'Запрос обрабатывается...')\n",
    "        await asyncio.sleep(5)\n",
    "        await bot.delete_message(message.chat.id, message.message_id)\n",
    "        await bot.send_message(message.chat.id, 'Сделано!')\n",
    "    \n",
    "\n",
    "def handler(event, _):\n",
    "    #logger.debug(f\"New event: {event}\")\n",
    "\n",
    "    #pool = get_ydb_pool(YDB_ENDPOINT, YDB_DATABASE)\n",
    "    #bot = create_bot(BOT_TOKEN, pool)\n",
    "\n",
    "    #message = telebot.types.Update.de_json(event[\"body\"])\n",
    "    #bot.process_new_updates([message])\n",
    "\n",
    "#     from aiogram import executor\n",
    "    bot = aiogram.Bot(token=BOT_TOKEN)\n",
    "    executor.start_polling(bot)\n",
    "\n",
    "    return {\n",
    "        \"statusCode\": 200,\n",
    "        \"body\": \"!\",\n",
    "    }"
   ]
  },
  {
   "cell_type": "code",
   "execution_count": null,
   "id": "4fd1725d",
   "metadata": {},
   "outputs": [],
   "source": []
  },
  {
   "cell_type": "code",
   "execution_count": 12,
   "id": "0ff34a63",
   "metadata": {},
   "outputs": [
    {
     "name": "stderr",
     "output_type": "stream",
     "text": [
      "2023-12-20 02:23:17,647 (__init__.py:1083 MainThread) ERROR - TeleBot: \"Threaded polling exception: A request to the Telegram API was unsuccessful. Error code: 409. Description: Conflict: can't use getUpdates method while webhook is active; use deleteWebhook to delete the webhook first\"\n",
      "2023-12-20 02:23:17,649 (__init__.py:1085 MainThread) ERROR - TeleBot: \"Exception traceback:\n",
      "Traceback (most recent call last):\n",
      "  File \"C:\\Users\\Lenovo\\AppData\\Roaming\\Python\\Python310\\site-packages\\telebot\\__init__.py\", line 1073, in __threaded_polling\n",
      "    polling_thread.raise_exceptions()\n",
      "  File \"C:\\Users\\Lenovo\\AppData\\Roaming\\Python\\Python310\\site-packages\\telebot\\util.py\", line 108, in raise_exceptions\n",
      "    raise self.exception_info\n",
      "  File \"C:\\Users\\Lenovo\\AppData\\Roaming\\Python\\Python310\\site-packages\\telebot\\util.py\", line 90, in run\n",
      "    task(*args, **kwargs)\n",
      "  File \"C:\\Users\\Lenovo\\AppData\\Roaming\\Python\\Python310\\site-packages\\telebot\\__init__.py\", line 649, in __retrieve_updates\n",
      "    updates = self.get_updates(offset=(self.last_update_id + 1),\n",
      "  File \"C:\\Users\\Lenovo\\AppData\\Roaming\\Python\\Python310\\site-packages\\telebot\\__init__.py\", line 623, in get_updates\n",
      "    json_updates = apihelper.get_updates(self.token, offset, limit, timeout, allowed_updates, long_polling_timeout)\n",
      "  File \"C:\\Users\\Lenovo\\AppData\\Roaming\\Python\\Python310\\site-packages\\telebot\\apihelper.py\", line 321, in get_updates\n",
      "    return _make_request(token, method_url, params=payload)\n",
      "  File \"C:\\Users\\Lenovo\\AppData\\Roaming\\Python\\Python310\\site-packages\\telebot\\apihelper.py\", line 162, in _make_request\n",
      "    json_result = _check_result(method_name, result)\n",
      "  File \"C:\\Users\\Lenovo\\AppData\\Roaming\\Python\\Python310\\site-packages\\telebot\\apihelper.py\", line 189, in _check_result\n",
      "    raise ApiTelegramException(method_name, result, result_json)\n",
      "telebot.apihelper.ApiTelegramException: A request to the Telegram API was unsuccessful. Error code: 409. Description: Conflict: can't use getUpdates method while webhook is active; use deleteWebhook to delete the webhook first\n",
      "\"\n"
     ]
    }
   ],
   "source": [
    "import telebot\n",
    "import time\n",
    "\n",
    "bot = telebot.TeleBot('6963248781:AAHN_K4yVMJ2kgcx-1G4MI-u-GazgeTQzNI')\n",
    "\n",
    "@bot.message_handler(commands=['start'])\n",
    "def start_message(message):\n",
    "    bot.send_message(message.chat.id, 'Приветствую тебя!')\n",
    "\n",
    "@bot.message_handler(func=lambda message: True)\n",
    "def echo_message(message):\n",
    "    bot.send_message(message.chat.id, 'Запрос обрабатывается...')\n",
    "#     time.sleep(5)\n",
    "#     bot.delete_message(message.chat.id, message.message_id)\n",
    "#     bot.send_message(message.chat.id, 'Сделано!')\n",
    "\n",
    "bot.polling()"
   ]
  },
  {
   "cell_type": "code",
   "execution_count": null,
   "id": "4c6a6f71",
   "metadata": {},
   "outputs": [],
   "source": []
  }
 ],
 "metadata": {
  "kernelspec": {
   "display_name": "Python 3 (ipykernel)",
   "language": "python",
   "name": "python3"
  },
  "language_info": {
   "codemirror_mode": {
    "name": "ipython",
    "version": 3
   },
   "file_extension": ".py",
   "mimetype": "text/x-python",
   "name": "python",
   "nbconvert_exporter": "python",
   "pygments_lexer": "ipython3",
   "version": "3.10.9"
  }
 },
 "nbformat": 4,
 "nbformat_minor": 5
}
